{
 "cells": [
  {
   "cell_type": "markdown",
   "metadata": {},
   "source": [
    "# Datasets"
   ]
  },
  {
   "cell_type": "code",
   "execution_count": null,
   "metadata": {},
   "outputs": [],
   "source": [
    "from datasets import load_dataset\n",
    "\n",
    "ds = load_dataset(\"princeton-nlp/llama3-ultrafeedback-armorm\")\n",
    "ds.save_to_disk(\"/home/hanyang/RainbowPO/examples/raw_datasets/llama3-ultrafeedback-armorm\")"
   ]
  },
  {
   "cell_type": "code",
   "execution_count": null,
   "metadata": {},
   "outputs": [],
   "source": [
    "# To trl format\n",
    "from datasets import load_from_disk\n",
    "ds = load_from_disk(f\"/home/hanyang/RainbowPO/examples/raw_datasets/llama3-ultrafeedback-armorm-trl\")\n",
    "ds_rlhf = ds\n",
    "ds_rlhf = ds_rlhf.remove_columns(['all_generated_responses', 'all_rm_scores'])\n",
    "ds_rlhf.save_to_disk(f\"/home/hanyang/RainbowPO/examples/datasets/UltraFeedback_armorm_trl/\")"
   ]
  },
  {
   "cell_type": "code",
   "execution_count": null,
   "metadata": {},
   "outputs": [],
   "source": [
    "# Check Dataset\n",
    "from datasets import load_from_disk\n",
    "dataset_path = \"/home/hanyang/RainbowPO/examples/datasets/UltraFeedback_armorm_rso_trl\"\n",
    "UltraFeedback_RM_trl= load_from_disk(dataset_path)\n",
    "UltraFeedback_RM_trl[\"train\"]"
   ]
  },
  {
   "cell_type": "markdown",
   "metadata": {},
   "source": [
    "# RSO"
   ]
  },
  {
   "cell_type": "code",
   "execution_count": null,
   "metadata": {},
   "outputs": [],
   "source": [
    "from datasets import load_dataset,DatasetDict\n",
    "\n",
    "# Load the dataset from a JSON file\n",
    "dataset = load_dataset('json', data_files='/home/hanyang/SimPO/on_policy_data_gen/datasets/llama3_ultrafeedback/processed_results.json')\n",
    "\n",
    "# Get the total length of the dataset\n",
    "dataset_length = len(dataset['train'])\n",
    "\n",
    "# Define the number of examples in the test set\n",
    "test_size = 1961\n",
    "\n",
    "# Split the dataset\n",
    "train_dataset = dataset['train'].select(range(dataset_length - test_size))  # All but last 1961 prompts\n",
    "test_dataset = dataset['train'].select(range(dataset_length - test_size, dataset_length))  # Last 1961 prompts\n",
    "\n",
    "# Create a DatasetDict with 'train' and 'test' splits\n",
    "split_dataset = DatasetDict({\n",
    "    'train': train_dataset,\n",
    "    'test': test_dataset\n",
    "})\n",
    "\n",
    "# split_dataset.save_to_disk('examples/raw_datasets/llama3-ultrafeedback-armorm-rso')"
   ]
  },
  {
   "cell_type": "code",
   "execution_count": null,
   "metadata": {},
   "outputs": [],
   "source": [
    "dataset = load_dataset('json', data_files='/home/hanyang/SimPO/on_policy_data_gen/datasets/llama3_ultrafeedback/all_outputs.json')"
   ]
  },
  {
   "cell_type": "code",
   "execution_count": null,
   "metadata": {},
   "outputs": [],
   "source": [
    "dataset"
   ]
  },
  {
   "cell_type": "code",
   "execution_count": null,
   "metadata": {},
   "outputs": [],
   "source": [
    "from datasets import load_dataset,DatasetDict\n",
    "\n",
    "for alpha in [0.2, 0.5, 1.0, 2.0, 5.0]:\n",
    "\n",
    "    # Load the dataset from a JSON file\n",
    "    dataset = load_dataset('json', data_files=f'/home/hanyang/SimPO/on_policy_data_gen/datasets/llama3_ultrafeedback/alpha={alpha}.json')\n",
    "\n",
    "    dataset.save_to_disk(f'examples/raw_datasets/llama3-ultrafeedback-armorm-rso-alpha={alpha}')"
   ]
  },
  {
   "cell_type": "markdown",
   "metadata": {},
   "source": [
    "## Process Dataset to trl format"
   ]
  },
  {
   "cell_type": "code",
   "execution_count": null,
   "metadata": {},
   "outputs": [],
   "source": [
    "from datasets import load_from_disk\n",
    "for alpha in [0.2, 0.5, 1.0, 2.0, 5.0]:\n",
    "    ds = load_from_disk(f\"/home/hanyang/RainbowPO/examples/raw_datasets/llama3-ultrafeedback-armorm-rso-alpha={alpha}\")\n",
    "    ds_rlhf = ds\n",
    "    ds_rlhf = ds_rlhf.remove_columns(['all_generated_responses', 'all_rm_scores'])\n",
    "    ds_rlhf.save_to_disk(f\"/home/hanyang/RainbowPO/examples/datasets/UltraFeedback_armorm_rso_alpha={alpha}_trl/\")"
   ]
  },
  {
   "cell_type": "markdown",
   "metadata": {},
   "source": [
    "## DataSet Checking"
   ]
  },
  {
   "cell_type": "code",
   "execution_count": 13,
   "metadata": {},
   "outputs": [
    {
     "data": {
      "text/plain": [
       "Dataset({\n",
       "    features: ['prompt', 'chosen', 'rejected'],\n",
       "    num_rows: 60077\n",
       "})"
      ]
     },
     "execution_count": 13,
     "metadata": {},
     "output_type": "execute_result"
    }
   ],
   "source": [
    "from datasets import load_from_disk\n",
    "alpha = 0.2\n",
    "dataset_path = f\"/home/hanyang/RainbowPO/examples/datasets/UltraFeedback_armorm_rso_alpha={alpha}_trl\"\n",
    "UltraFeedback_RM_trl= load_from_disk(dataset_path)\n",
    "UltraFeedback_RM_trl[\"train\"]"
   ]
  },
  {
   "cell_type": "markdown",
   "metadata": {},
   "source": [
    "# KTO"
   ]
  },
  {
   "cell_type": "code",
   "execution_count": 1,
   "metadata": {},
   "outputs": [],
   "source": [
    "from datasets import load_from_disk\n",
    "from tqdm import tqdm\n",
    "\n",
    "dpo_dataset_dict = load_from_disk(\"/home/hanyang/RainbowPO/examples/datasets/UltraFeedback_armorm_trl\")\n",
    "\n",
    "kto_dataset_dict = load_from_disk(\"/home/hanyang/RainbowPO/examples/datasets/UltraFeedback_armorm_kto_trl\")\n"
   ]
  },
  {
   "cell_type": "code",
   "execution_count": null,
   "metadata": {},
   "outputs": [],
   "source": [
    "from datasets import load_dataset\n",
    "from datasets import load_from_disk\n",
    "from tqdm import tqdm\n",
    "\n",
    "dpo_dataset_dict = load_dataset(\"<some path>/RainbowPO/raw_datasets/llama3-ultrafeedback-armorm/\")\n",
    "\n",
    "def convert_dataset(dpo_subset):\n",
    "    n = len(dpo_subset['prompt'])\n",
    "   \n",
    "    # Pre-allocate lists for efficiency\n",
    "    kto_prompt = [None] * (2 * n)  # each prompt will have two entries (chosen and rejected)\n",
    "    kto_completion = [None] * (2 * n)\n",
    "    kto_label = [None] * (2 * n)\n",
    "   \n",
    "    # Use tqdm for progress bar\n",
    "    for i, row in tqdm(enumerate(dpo_subset), desc=\"Converting dataset\"):\n",
    "        # Populate the lists\n",
    "        kto_prompt[2 * i] = row[\"prompt\"]\n",
    "        kto_prompt[2 * i + 1] = row[\"prompt\"]\n",
    "\n",
    "        # First, add the chosen response with a True label\n",
    "        kto_completion[2 * i] = row[\"chosen\"]\n",
    "        kto_label[2 * i] = True\n",
    "\n",
    "        # Then, add the rejected response with a False label\n",
    "        kto_completion[2 * i + 1] = row[\"rejected\"]\n",
    "        kto_label[2 * i + 1] = False\n",
    "\n",
    "    return {\n",
    "        \"prompt\": kto_prompt,\n",
    "        \"completion\": kto_completion,\n",
    "        \"label\": kto_label\n",
    "    }\n",
    "\n",
    "# Convert both train and test sets\n",
    "kto_dataset_dict = {\n",
    "    \"train\": convert_dataset(dpo_dataset_dict[\"train\"]),\n",
    "    \"test\": convert_dataset(dpo_dataset_dict[\"test\"])\n",
    "}\n",
    "\n",
    "# Save the converted dataset\n",
    "kto_dataset_dict.save_to_disk(\"/home/hanyang/RainbowPO/examples/datasets/UltraFeedback_armorm_kto_trl\")"
   ]
  },
  {
   "cell_type": "markdown",
   "metadata": {},
   "source": [
    "# RainbowPO"
   ]
  },
  {
   "cell_type": "code",
   "execution_count": 7,
   "metadata": {},
   "outputs": [],
   "source": [
    "dataset = load_from_disk('examples/raw_datasets/llama3-ultrafeedback-armorm-rso-alpha=0.2')"
   ]
  },
  {
   "cell_type": "code",
   "execution_count": 10,
   "metadata": {},
   "outputs": [
    {
     "data": {
      "text/plain": [
       "{'prompt': '\\n\\nA federal judge on Thursday rejected efforts by Texas to stop the resettlement of Syrian refugees within its borders. The ruling comes days after presumptive Republican presidential nominee Donald Trump called to block non-citizen Muslims from entering the U.S. following the Orlando nightclub massacre. Even before the attack, Americans were divided, mostly along party lines, on the issue of refugees from war-torn countries in the Middle East. A survey conducted in late May by the Brookings Institution found of those polled, just 38 percent of Republicans supported taking in refugees from Syria and the Middle East, compared with 77 percent of Democrats. But among Trump supporters, an overwhelming 77 percent said they oppose taking in refugees. So who are these people who cause such a divide among Americans, triggering feelings of dread and suspicion in some and feelings of empathy and hospitality in others? Millions have been forced to flee the bloody conflicts in Syria, Iraq, Libya and other Middle Eastern nations. In 1951 the United Nation\\'s Refugee Convention defined a refugee as someone who \"owing to a well-founded fear of being persecuted for reasons of race, religion, nationality, membership of a particular social group or political opinion, is outside the country of his nationality, and is unable to, or owing to such fear, is unwilling to avail himself of the protection of that country.\" By the end of 2014, there were 19.5 million refugees worldwide, according to the United Nations, 14.4 million of whom were under the mandate of the United Nations Human Rights Council. This was an increase of 2.9 million from 2013. The remaining 5.1 million refugees were registered with the United Nations Relief and Works Agency. However, there are an estimated 59.5 million forcibly displaced persons around the world, according to United Nation\\'s Global Trends report. This population not only includes refugees, but internally displaced persons, asylum-seekers and stateless people as well. President Barack Obama has set... According to the above context, answer the following question. how much money has probably been spent on resettling refugees\\nAnswer:',\n",
       " 'all_generated_responses': ['The context does not provide information about the amount of money spent on resettling refugees. It only discusses the definition of a refugee, the number of refugees worldwide, and the political debate surrounding refugee resettlement in the United States.',\n",
       "  'The article does not mention the amount of money spent on resettling refugees. It only discusses the number of refugees, the definition of a refugee, and the political debate surrounding the issue.',\n",
       "  'The text does not mention the amount of money spent on resettling refugees.'],\n",
       " 'all_rm_scores': [0.12060546874999999,\n",
       "  0.11914062500000001,\n",
       "  0.12060546874999999],\n",
       " 'chosen': [{'content': '\\n\\nA federal judge on Thursday rejected efforts by Texas to stop the resettlement of Syrian refugees within its borders. The ruling comes days after presumptive Republican presidential nominee Donald Trump called to block non-citizen Muslims from entering the U.S. following the Orlando nightclub massacre. Even before the attack, Americans were divided, mostly along party lines, on the issue of refugees from war-torn countries in the Middle East. A survey conducted in late May by the Brookings Institution found of those polled, just 38 percent of Republicans supported taking in refugees from Syria and the Middle East, compared with 77 percent of Democrats. But among Trump supporters, an overwhelming 77 percent said they oppose taking in refugees. So who are these people who cause such a divide among Americans, triggering feelings of dread and suspicion in some and feelings of empathy and hospitality in others? Millions have been forced to flee the bloody conflicts in Syria, Iraq, Libya and other Middle Eastern nations. In 1951 the United Nation\\'s Refugee Convention defined a refugee as someone who \"owing to a well-founded fear of being persecuted for reasons of race, religion, nationality, membership of a particular social group or political opinion, is outside the country of his nationality, and is unable to, or owing to such fear, is unwilling to avail himself of the protection of that country.\" By the end of 2014, there were 19.5 million refugees worldwide, according to the United Nations, 14.4 million of whom were under the mandate of the United Nations Human Rights Council. This was an increase of 2.9 million from 2013. The remaining 5.1 million refugees were registered with the United Nations Relief and Works Agency. However, there are an estimated 59.5 million forcibly displaced persons around the world, according to United Nation\\'s Global Trends report. This population not only includes refugees, but internally displaced persons, asylum-seekers and stateless people as well. President Barack Obama has set... According to the above context, answer the following question. how much money has probably been spent on resettling refugees\\nAnswer:',\n",
       "   'role': 'user'},\n",
       "  {'content': 'The context does not provide information about the amount of money spent on resettling refugees. It only discusses the definition of a refugee, the number of refugees worldwide, and the political debate surrounding refugee resettlement in the United States.',\n",
       "   'role': 'assistant'}],\n",
       " 'rejected': [{'content': '\\n\\nA federal judge on Thursday rejected efforts by Texas to stop the resettlement of Syrian refugees within its borders. The ruling comes days after presumptive Republican presidential nominee Donald Trump called to block non-citizen Muslims from entering the U.S. following the Orlando nightclub massacre. Even before the attack, Americans were divided, mostly along party lines, on the issue of refugees from war-torn countries in the Middle East. A survey conducted in late May by the Brookings Institution found of those polled, just 38 percent of Republicans supported taking in refugees from Syria and the Middle East, compared with 77 percent of Democrats. But among Trump supporters, an overwhelming 77 percent said they oppose taking in refugees. So who are these people who cause such a divide among Americans, triggering feelings of dread and suspicion in some and feelings of empathy and hospitality in others? Millions have been forced to flee the bloody conflicts in Syria, Iraq, Libya and other Middle Eastern nations. In 1951 the United Nation\\'s Refugee Convention defined a refugee as someone who \"owing to a well-founded fear of being persecuted for reasons of race, religion, nationality, membership of a particular social group or political opinion, is outside the country of his nationality, and is unable to, or owing to such fear, is unwilling to avail himself of the protection of that country.\" By the end of 2014, there were 19.5 million refugees worldwide, according to the United Nations, 14.4 million of whom were under the mandate of the United Nations Human Rights Council. This was an increase of 2.9 million from 2013. The remaining 5.1 million refugees were registered with the United Nations Relief and Works Agency. However, there are an estimated 59.5 million forcibly displaced persons around the world, according to United Nation\\'s Global Trends report. This population not only includes refugees, but internally displaced persons, asylum-seekers and stateless people as well. President Barack Obama has set... According to the above context, answer the following question. how much money has probably been spent on resettling refugees\\nAnswer:',\n",
       "   'role': 'user'},\n",
       "  {'content': 'The context does not mention the amount of money spent on resettling refugees. It only provides information about the definition of a refugee, the number of refugees worldwide, and the political divide among Americans on the issue of refugees.',\n",
       "   'role': 'assistant'}]}"
      ]
     },
     "execution_count": 10,
     "metadata": {},
     "output_type": "execute_result"
    }
   ],
   "source": [
    "dataset[\"train\"][0]"
   ]
  },
  {
   "cell_type": "code",
   "execution_count": null,
   "metadata": {},
   "outputs": [],
   "source": []
  }
 ],
 "metadata": {
  "kernelspec": {
   "display_name": "trl",
   "language": "python",
   "name": "python3"
  },
  "language_info": {
   "codemirror_mode": {
    "name": "ipython",
    "version": 3
   },
   "file_extension": ".py",
   "mimetype": "text/x-python",
   "name": "python",
   "nbconvert_exporter": "python",
   "pygments_lexer": "ipython3",
   "version": "3.1.undefined"
  }
 },
 "nbformat": 4,
 "nbformat_minor": 2
}
