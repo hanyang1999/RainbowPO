{
 "cells": [
  {
   "cell_type": "code",
   "execution_count": 3,
   "metadata": {},
   "outputs": [],
   "source": [
    "from trl import DPOConfig"
   ]
  },
  {
   "cell_type": "code",
   "execution_count": 5,
   "metadata": {},
   "outputs": [
    {
     "data": {
      "text/plain": [
       "'sigmoid'"
      ]
     },
     "execution_count": 5,
     "metadata": {},
     "output_type": "execute_result"
    }
   ],
   "source": [
    "DPOConfig.loss_type"
   ]
  },
  {
   "cell_type": "code",
   "execution_count": 1,
   "metadata": {},
   "outputs": [
    {
     "name": "stdout",
     "output_type": "stream",
     "text": [
      "benchmark\t\t\t\t    core.1913366  models_rlhf\n",
      "CITATION.cff\t\t\t\t    core.1913367  models_sft\n",
      "commands\t\t\t\t    core.1913368  pyproject.toml\n",
      "commands_demo.ipynb\t\t\t    core.1913379  README.md\n",
      "commands_eval_benchmarks.ipynb\t\t    core.1913380  requirements.txt\n",
      "commands_training_hh.ipynb\t\t    core.1913381  scripts\n",
      "commands_training_test.ipynb\t\t    docker\t  setup.cfg\n",
      "commands_training_ultrachat_feedback.ipynb  docs\t  setup.py\n",
      "commands_training_ultrafeedback_RM.ipynb    examples\t  tests\n",
      "CONTRIBUTING.md\t\t\t\t    LICENSE\t  trl\n",
      "core.127434\t\t\t\t    Makefile\t  trl.egg-info\n",
      "core.1913365\t\t\t\t    MANIFEST.in   wandb\n"
     ]
    }
   ],
   "source": [
    "!ls"
   ]
  }
 ],
 "metadata": {
  "kernelspec": {
   "display_name": "trl",
   "language": "python",
   "name": "python3"
  },
  "language_info": {
   "codemirror_mode": {
    "name": "ipython",
    "version": 3
   },
   "file_extension": ".py",
   "mimetype": "text/x-python",
   "name": "python",
   "nbconvert_exporter": "python",
   "pygments_lexer": "ipython3",
   "version": "3.10.14"
  }
 },
 "nbformat": 4,
 "nbformat_minor": 2
}
