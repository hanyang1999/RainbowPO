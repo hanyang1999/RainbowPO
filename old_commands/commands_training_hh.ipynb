{
 "cells": [
  {
   "cell_type": "markdown",
   "metadata": {},
   "source": [
    "## Load Llama-3-8B"
   ]
  },
  {
   "cell_type": "code",
   "execution_count": 2,
   "metadata": {},
   "outputs": [],
   "source": [
    "# Warning: Using transformer version in DPO will lead to errors of loading Llama3\n",
    "import transformers\n",
    "from transformers import AutoModelForCausalLM, AutoTokenizer\n",
    "transformers.logging.set_verbosity_error()"
   ]
  },
  {
   "cell_type": "code",
   "execution_count": 3,
   "metadata": {},
   "outputs": [
    {
     "data": {
      "application/vnd.jupyter.widget-view+json": {
       "model_id": "51695d583aa749e18fb6e206f03d564c",
       "version_major": 2,
       "version_minor": 0
      },
      "text/plain": [
       "Loading checkpoint shards:   0%|          | 0/4 [00:00<?, ?it/s]"
      ]
     },
     "metadata": {},
     "output_type": "display_data"
    }
   ],
   "source": [
    "tokenizer = AutoTokenizer.from_pretrained(\"<some path>/model_zoo/Meta-Llama-3-8B\")\n",
    "model = AutoModelForCausalLM.from_pretrained(\"<some path>/model_zoo/Meta-Llama-3-8B\")\n"
   ]
  },
  {
   "cell_type": "code",
   "execution_count": 6,
   "metadata": {},
   "outputs": [
    {
     "data": {
      "application/vnd.jupyter.widget-view+json": {
       "model_id": "7638536feb30461bb3a4c2d22717521d",
       "version_major": 2,
       "version_minor": 0
      },
      "text/plain": [
       "Generating train split: 0 examples [00:00, ? examples/s]"
      ]
     },
     "metadata": {},
     "output_type": "display_data"
    },
    {
     "data": {
      "application/vnd.jupyter.widget-view+json": {
       "model_id": "979771ea744a427682ee309b18cf5ea0",
       "version_major": 2,
       "version_minor": 0
      },
      "text/plain": [
       "Generating test split: 0 examples [00:00, ? examples/s]"
      ]
     },
     "metadata": {},
     "output_type": "display_data"
    }
   ],
   "source": [
    "from datasets import load_dataset\n",
    "#hh_dataset = load_dataset(\"Anthropic/hh-rlhf\")\n",
    "ds = load_dataset(\"<some path>/Anthropic_hh-rlhf\")"
   ]
  },
  {
   "cell_type": "markdown",
   "metadata": {},
   "source": [
    "# Data Processing"
   ]
  },
  {
   "cell_type": "code",
   "execution_count": 30,
   "metadata": {},
   "outputs": [],
   "source": [
    "from datasets import load_dataset,load_from_disk\n",
    "dataset_path = \"<some path>/trl/examples/datasets/hh_trl\"\n",
    "\n",
    "raw_datasets = load_from_disk(dataset_path)"
   ]
  },
  {
   "cell_type": "code",
   "execution_count": 32,
   "metadata": {},
   "outputs": [],
   "source": [
    "ds = raw_datasets"
   ]
  },
  {
   "cell_type": "code",
   "execution_count": 33,
   "metadata": {},
   "outputs": [
    {
     "data": {
      "application/vnd.jupyter.widget-view+json": {
       "model_id": "7ad5cf2de1b844ed95b17234c939ac33",
       "version_major": 2,
       "version_minor": 0
      },
      "text/plain": [
       "Saving the dataset (0/1 shards):   0%|          | 0/160800 [00:00<?, ? examples/s]"
      ]
     },
     "metadata": {},
     "output_type": "display_data"
    },
    {
     "data": {
      "application/vnd.jupyter.widget-view+json": {
       "model_id": "e2793910ad684f76974364a3ca9bfd82",
       "version_major": 2,
       "version_minor": 0
      },
      "text/plain": [
       "Saving the dataset (0/1 shards):   0%|          | 0/8552 [00:00<?, ? examples/s]"
      ]
     },
     "metadata": {},
     "output_type": "display_data"
    }
   ],
   "source": [
    "for split in [\"train\",\"test\"]:\n",
    "    ds[split]=ds[split].remove_columns([\"prompt\",\"rejected\"])\n",
    "    ds[split]=ds[split].rename_column(\"chosen\",\"messages\")\n",
    "ds.save_to_disk(\"<some path>/trl/examples/datasets/hh_sft_trl/\")"
   ]
  },
  {
   "cell_type": "markdown",
   "metadata": {},
   "source": [
    "## DataSet Checking"
   ]
  },
  {
   "cell_type": "code",
   "execution_count": 2,
   "metadata": {},
   "outputs": [
    {
     "data": {
      "text/plain": [
       "DatasetDict({\n",
       "    train: Dataset({\n",
       "        features: ['messages'],\n",
       "        num_rows: 160800\n",
       "    })\n",
       "    test: Dataset({\n",
       "        features: ['messages'],\n",
       "        num_rows: 8552\n",
       "    })\n",
       "})"
      ]
     },
     "execution_count": 2,
     "metadata": {},
     "output_type": "execute_result"
    }
   ],
   "source": [
    "from datasets import load_from_disk\n",
    "dataset_path = \"<some path>/trl/examples/datasets/hh_sft_trl\"\n",
    "hh_sft_trl = load_from_disk(dataset_path)\n",
    "# ds = raw_datasets.remove_column(\"prompt\")\n",
    "\n",
    "# # def process(row):\n",
    "# #     row[\"completion\"] = tokenizer.apply_chat_template(row[\"completion\"], tokenize=False)\n",
    "# #     return row\n",
    "\n",
    "# ds = ds.map(\n",
    "#     process,\n",
    "#     num_proc=16,\n",
    "#     #num_proc=multiprocessing.cpu_count(),\n",
    "#     load_from_cache_file=True,\n",
    "# )\n",
    "\n",
    "hh_sft_trl"
   ]
  },
  {
   "cell_type": "code",
   "execution_count": 3,
   "metadata": {},
   "outputs": [],
   "source": [
    "from datasets import load_from_disk\n",
    "dataset_path = \"<some path>/trl/examples/datasets/hh_trl\"\n",
    "hh_trl = load_from_disk(dataset_path)"
   ]
  },
  {
   "cell_type": "code",
   "execution_count": 4,
   "metadata": {},
   "outputs": [
    {
     "data": {
      "text/plain": [
       "DatasetDict({\n",
       "    train: Dataset({\n",
       "        features: ['chosen', 'rejected', 'prompt'],\n",
       "        num_rows: 160800\n",
       "    })\n",
       "    test: Dataset({\n",
       "        features: ['chosen', 'rejected', 'prompt'],\n",
       "        num_rows: 8552\n",
       "    })\n",
       "})"
      ]
     },
     "execution_count": 4,
     "metadata": {},
     "output_type": "execute_result"
    }
   ],
   "source": [
    "hh_trl"
   ]
  },
  {
   "cell_type": "markdown",
   "metadata": {},
   "source": [
    "# SFT"
   ]
  },
  {
   "cell_type": "code",
   "execution_count": null,
   "metadata": {},
   "outputs": [],
   "source": [
    "!python examples/scripts/sft.py \\\n",
    "    --model_name_or_path=\"facebook/opt-350m\" \\\n",
    "    --report_to=\"wandb\" \\\n",
    "    --learning_rate=1.41e-5 \\\n",
    "    --per_device_train_batch_size=64 \\\n",
    "    --gradient_accumulation_steps=16 \\\n",
    "    --output_dir=\"sft_openassistant-guanaco\" \\\n",
    "    --logging_steps=1 \\\n",
    "    --num_train_epochs=3 \\\n",
    "    --max_steps=-1 \\\n",
    "    --gradient_checkpointing"
   ]
  },
  {
   "cell_type": "code",
   "execution_count": null,
   "metadata": {},
   "outputs": [],
   "source": [
    "# FSDP\n",
    "!accelerate launch --config_file=examples/accelerate_configs/FSDP_Llama.yaml --num_processes 8 examples/scripts/sft_fsdp.py \\\n",
    "    --dataset_name=\"<some path>/trl/examples/datasets/hh_sft_trl\" \\\n",
    "    --model_name_or_path=\"<some path>/model_zoo/Meta-Llama-3-8B\" \\\n",
    "    --per_device_train_batch_size 1 \\\n",
    "    --per_device_eval_batch_size 1 \\\n",
    "    --attn_implementation 'flash_attention_2' \\\n",
    "    --learning_rate 2e-6 \\\n",
    "    --gradient_accumulation_steps 8 \\\n",
    "    --gradient_checkpointing \\\n",
    "    --logging_steps 10 \\\n",
    "    --output_dir=\"sft_anthropic_hh_1\" \\\n",
    "    --optim adamw_torch \\\n",
    "    --warmup_steps 150 #\\"
   ]
  },
  {
   "cell_type": "code",
   "execution_count": null,
   "metadata": {},
   "outputs": [],
   "source": [
    "# Zero 2 will lead to OOM, similar for DPO\n",
    "!accelerate launch --config_file=examples/accelerate_configs/deepspeed_zero3_sft.yaml --num_processes 8 examples/scripts/sft.py \\\n",
    "    --dataset_name=\"<some path>/trl/examples/datasets/hh_sft_trl\" \\\n",
    "    --model_name_or_path=\"<some path>/model_zoo/Meta-Llama-3-8B\" \\\n",
    "    --per_device_train_batch_size 1 \\\n",
    "    --per_device_eval_batch_size 1 \\\n",
    "    --learning_rate 5e-7 \\\n",
    "    --gradient_accumulation_steps 8 \\\n",
    "    --gradient_checkpointing \\\n",
    "    --logging_steps 10 \\\n",
    "    --output_dir=\"sft_anthropic_hh\" \\\n",
    "    --optim adamw_torch \\\n",
    "    --warmup_steps 150 \\\n",
    "    #--eval_steps 500 \\\n",
    "    #--bf16 \\\n",
    "    #--logging_first_step \\\n",
    "    #--no_remove_unused_columns"
   ]
  },
  {
   "cell_type": "markdown",
   "metadata": {},
   "source": [
    "# RLHF"
   ]
  },
  {
   "cell_type": "code",
   "execution_count": null,
   "metadata": {},
   "outputs": [],
   "source": [
    "# just python\n",
    "!python examples/scripts/dpo.py \\\n",
    "    --dataset_name=\"<some path>/trl/examples/datasets/hh_trl\" \\\n",
    "    --model_name_or_path=\"<some path>/model_zoo/Meta-Llama-3-8B\" \\\n",
    "    --per_device_train_batch_size 4 \\\n",
    "    --learning_rate 1e-3 \\\n",
    "    --gradient_accumulation_steps 1 \\\n",
    "    --logging_steps 10 \\\n",
    "    --eval_steps 500 \\\n",
    "    --output_dir=\"dpo_anthropic_hh\" \\\n",
    "    --warmup_steps 150 \\\n",
    "    --bf16 \\\n",
    "    --logging_first_step \\\n",
    "    --no_remove_unused_columns"
   ]
  },
  {
   "cell_type": "markdown",
   "metadata": {},
   "source": [
    "## Deepspeed Zero"
   ]
  },
  {
   "cell_type": "code",
   "execution_count": null,
   "metadata": {},
   "outputs": [],
   "source": [
    "# Zero3 Full parameters \n",
    "!accelerate launch --config_file=examples/accelerate_configs/deepspeed_zero3.yaml --num_processes 8 examples/scripts/dpo.py \\\n",
    "    --dataset_name=\"<some path>/trl/examples/datasets/hh_trl\" \\\n",
    "    --model_name_or_path=\"<some path>/model_zoo/Meta-Llama-3-8B\" \\\n",
    "    --per_device_train_batch_size 2 \\\n",
    "    --per_device_eval_batch_size 4 \\\n",
    "    --learning_rate 5e-7 \\\n",
    "    --gradient_accumulation_steps 8 \\\n",
    "    --gradient_checkpointing True \\\n",
    "    --logging_steps 10 \\\n",
    "    --eval_steps 500 \\\n",
    "    --output_dir=\"dpo_anthropic_hh\" \\\n",
    "    --optim adamw_torch \\\n",
    "    --max_length 512 \\\n",
    "    --max_prompt_length 128 \\\n",
    "    --warmup_steps 150 \\\n",
    "    --bf16 \\\n",
    "    --logging_first_step \\\n",
    "    --no_remove_unused_columns"
   ]
  },
  {
   "cell_type": "code",
   "execution_count": null,
   "metadata": {},
   "outputs": [],
   "source": [
    "# Zero3 Full parameters (with Flash Attention)\n",
    "!accelerate launch --config_file=examples/accelerate_configs/deepspeed_zero3.yaml --num_processes 8 examples/scripts/dpo.py \\\n",
    "    --dataset_name=\"<some path>/trl/examples/datasets/hh_trl\" \\\n",
    "    --model_name_or_path=\"<some path>/model_zoo/Meta-Llama-3-8B\" \\\n",
    "    --per_device_train_batch_size 2 \\\n",
    "    --per_device_eval_batch_size 4 \\\n",
    "    --attn_implementation 'flash_attention_2' \\\n",
    "    --learning_rate 5e-7 \\\n",
    "    --gradient_accumulation_steps 8 \\\n",
    "    --gradient_checkpointing True \\\n",
    "    --logging_steps 10 \\\n",
    "    --eval_steps 500 \\\n",
    "    --output_dir=\"dpo_anthropic_hh\" \\\n",
    "    --optim rmsprop \\\n",
    "    --max_length 512 \\\n",
    "    --max_prompt_length 128 \\\n",
    "    --warmup_steps 150 \\\n",
    "    --bf16 \\\n",
    "    --logging_first_step \\\n",
    "    --no_remove_unused_columns"
   ]
  },
  {
   "cell_type": "code",
   "execution_count": null,
   "metadata": {},
   "outputs": [],
   "source": [
    "# Zero2 Full parameters (OOM)\n",
    "!accelerate launch --config_file=examples/accelerate_configs/deepspeed_zero2.yaml --num_processes 8 examples/scripts/dpo_zero2.py \\\n",
    "    --dataset_name=\"<some path>/trl/examples/datasets/hh_trl\" \\\n",
    "    --model_name_or_path=\"<some path>/model_zoo/Meta-Llama-3-8B\" \\\n",
    "    --per_device_train_batch_size 2 \\\n",
    "    --per_device_eval_batch_size 4 \\\n",
    "    --attn_implementation 'flash_attention_2' \\\n",
    "    --learning_rate 5e-7 \\\n",
    "    --gradient_accumulation_steps 8 \\\n",
    "    --gradient_checkpointing True \\\n",
    "    --logging_steps 10 \\\n",
    "    --eval_steps 500 \\\n",
    "    --output_dir=\"dpo_anthropic_hh\" \\\n",
    "    --optim rmsprop \\\n",
    "    --max_length 512 \\\n",
    "    --max_prompt_length 128 \\\n",
    "    --warmup_steps 150 \\\n",
    "    --bf16 \\\n",
    "    --logging_first_step \\\n",
    "    --no_remove_unused_columns\n",
    "    #--sanity_check"
   ]
  },
  {
   "cell_type": "markdown",
   "metadata": {},
   "source": [
    "## FSDP"
   ]
  },
  {
   "cell_type": "code",
   "execution_count": null,
   "metadata": {},
   "outputs": [],
   "source": [
    "# FSDP: Note that batch_size 4 will currently lead to OOM error\n",
    "!accelerate launch --config_file=examples/accelerate_configs/FSDP_Llama.yaml --num_processes 8 examples/scripts/dpo_fsdp.py \\\n",
    "    --dataset_name=\"<some path>/trl/examples/datasets/hh_trl\" \\\n",
    "    --model_name_or_path=\"<some path>/model_zoo/Meta-Llama-3-8B\" \\\n",
    "    --per_device_train_batch_size 2 \\\n",
    "    --per_device_eval_batch_size 4 \\\n",
    "    --learning_rate 5e-7 \\\n",
    "    --gradient_accumulation_steps 4 \\\n",
    "    --gradient_checkpointing True \\\n",
    "    --logging_steps 10 \\\n",
    "    --eval_steps 500 \\\n",
    "    --output_dir=\"dpo_anthropic_hh\" \\\n",
    "    --optim rmsprop \\\n",
    "    --max_length 512 \\\n",
    "    --max_prompt_length 128 \\\n",
    "    --warmup_steps 150 \\\n",
    "    --bf16 \\\n",
    "    --logging_first_step \\\n",
    "    --no_remove_unused_columns\n",
    "##\n",
    "# ddp_timeout: 1800\n",
    "# fsdp: \"full_shard auto_wrap\"\n",
    "# fsdp_transformer_layer_cls_to_wrap: \"LlamaDecoderLayer\""
   ]
  }
 ],
 "metadata": {
  "kernelspec": {
   "display_name": "trl",
   "language": "python",
   "name": "python3"
  },
  "language_info": {
   "codemirror_mode": {
    "name": "ipython",
    "version": 3
   },
   "file_extension": ".py",
   "mimetype": "text/x-python",
   "name": "python",
   "nbconvert_exporter": "python",
   "pygments_lexer": "ipython3",
   "version": "3.11.9"
  }
 },
 "nbformat": 4,
 "nbformat_minor": 2
}
