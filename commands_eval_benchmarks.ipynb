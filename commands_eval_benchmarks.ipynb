{
 "cells": [
  {
   "cell_type": "markdown",
   "metadata": {},
   "source": [
    "## FastChat"
   ]
  },
  {
   "cell_type": "code",
   "execution_count": null,
   "metadata": {},
   "outputs": [],
   "source": [
    "# !git clone https://github.com/lm-sys/FastChat.git\n",
    "# cd FastChat\n",
    "# !pip install -e \".[model_worker,llm_judge]\""
   ]
  },
  {
   "cell_type": "code",
   "execution_count": null,
   "metadata": {},
   "outputs": [],
   "source": [
    "\"\"\"first run on a terminal on your local machine and keep it running in the background: \n",
    ">>>kubectl port-forward something-gpu-ultra-inf 8000:8000\n",
    "\n",
    "Forwarding from 127.0.0.1:8000 -> 8000\n",
    "Forwarding from [::1]:8000 -> 8000\n",
    "---------------------------------\n",
    "then run the following code:\n",
    "\"\"\"\n",
    "import os\n",
    "from openai import OpenAI\n",
    "\n",
    "# Modify OpenAI's API key and API base to use vLLM's API server.\n",
    "openai_api_key = \"EMPTY\"\n",
    "openai_api_base = \"http://localhost:8000/v1\"\n",
    "\n",
    "client = OpenAI(\n",
    "    api_key=openai_api_key,\n",
    "    base_url=openai_api_base,\n",
    ")\n",
    "for i in range(100):\n",
    "    completion = client.completions.create(model=\"Meta-Llama-3-70B-Instruct\",\n",
    "                                      prompt=\"San Francisco is a\")\n",
    "    print(\"Completion result:\", completion)"
   ]
  },
  {
   "cell_type": "code",
   "execution_count": null,
   "metadata": {},
   "outputs": [],
   "source": [
    "!python gen_model_answer.py --model-path <some path>trl/models_rlhf/Llama3-Instruct_armorm_dpo_beta_0.1 --model-id dpo_beta_0.1 --num-gpus-total 8\n",
    "!python gen_model_answer.py --model-path <some path>trl/models_rlhf/Llama3-Instruct_armorm_dpo_beta_0.01 --model-id dpo_beta_0.01 --num-gpus-total 8\n",
    "!python gen_model_answer.py --model-path <some path>trl/models_rlhf/Llama3-Instruct_armorm_ipo_beta_0.1 --model-id ipo_beta_0.1 --num-gpus-total 8\n",
    "!python gen_model_answer.py --model-path <some path>trl/models_rlhf/Llama3-Instruct_armorm_orpo_beta_0.1 --model-id orpo_beta_0.1 --num-gpus-total 8"
   ]
  },
  {
   "cell_type": "code",
   "execution_count": null,
   "metadata": {
    "vscode": {
     "languageId": "powershell"
    }
   },
   "outputs": [],
   "source": [
    "python gen_model_answer.py --model-path <some path>/trl/models_rlhf/Llama3-Instruct_armorm_mallows_dpo_beta_0.1 --model-id mallows_dpo_beta_0.1 --num-gpus-total 8"
   ]
  },
  {
   "cell_type": "code",
   "execution_count": null,
   "metadata": {
    "vscode": {
     "languageId": "powershell"
    }
   },
   "outputs": [],
   "source": [
    "python gen_model_answer.py --model-path <some path>/trl/models_rlhf/beta/Llama3-Instruct_armorm_dpo_beta_0.1 --model-id dpo_beta_0.1 --num-gpus-total 8"
   ]
  },
  {
   "cell_type": "markdown",
   "metadata": {},
   "source": [
    "lr=0.5"
   ]
  },
  {
   "cell_type": "code",
   "execution_count": null,
   "metadata": {
    "vscode": {
     "languageId": "powershell"
    }
   },
   "outputs": [],
   "source": [
    "python gen_model_answer.py --model-path <some path>/trl/models_rlhf/Llama3-Instruct_armorm_mallows_dpo_beta_0.05_lr_0.5 --model-id mallows_dpo_beta_0.05_lr_0.5 --num-gpus-total 8"
   ]
  },
  {
   "cell_type": "code",
   "execution_count": null,
   "metadata": {
    "vscode": {
     "languageId": "powershell"
    }
   },
   "outputs": [],
   "source": [
    "python gen_model_answer.py --model-path <some path>/trl/models_rlhf/learning_rate/Llama3-Instruct_armorm_dpo_beta_0.05_lr_0.5 --model-id dpo_beta_0.05_lr_0.5 --num-gpus-total 8"
   ]
  },
  {
   "cell_type": "markdown",
   "metadata": {},
   "source": [
    "xpos"
   ]
  },
  {
   "cell_type": "code",
   "execution_count": null,
   "metadata": {
    "vscode": {
     "languageId": "powershell"
    }
   },
   "outputs": [],
   "source": [
    "python gen_model_answer.py --model-path <some path>/trl/models_rlhf/learning_rate/Llama3-Instruct_armorm_dpo_beta_0.05_lr_0.5 --model-id dpo_beta_0.05_lr_0.5 --num-gpus-total 8"
   ]
  },
  {
   "cell_type": "code",
   "execution_count": null,
   "metadata": {},
   "outputs": [],
   "source": [
    "!export openai_api_key=\"http://localhost:8000/v1\"\n",
    "!python gen_judgment_local.py --model-list dpo_beta_0.1 dpo_beta_0.01 --judge-model \"Meta-Llama-3-70B-Instruct\"\n",
    "!python gen_judgment_local.py --model-list ipo_beta_0.1 orpo_beta_0.1 --judge-model \"Meta-Llama-3-70B-Instruct\""
   ]
  },
  {
   "cell_type": "code",
   "execution_count": null,
   "metadata": {},
   "outputs": [],
   "source": [
    "!python show_result.py --model-list dpo_beta_0.1 dpo_beta_0.01 ipo_beta_0.1 orpo_beta_0.1 --judge-model \"judger_Meta-Llama-3-70B-Instruct\""
   ]
  },
  {
   "cell_type": "markdown",
   "metadata": {},
   "source": [
    "xpos+mallows"
   ]
  },
  {
   "cell_type": "code",
   "execution_count": null,
   "metadata": {
    "vscode": {
     "languageId": "powershell"
    }
   },
   "outputs": [],
   "source": [
    "python gen_model_answer.py --model-path <some path>/trl/models_rlhf/learning_rate/Llama3-Instruct_armorm_dpo_beta_0.05_lr_0.5 --model-id dpo_beta_0.05_lr_0.5 --num-gpus-total 8"
   ]
  },
  {
   "cell_type": "markdown",
   "metadata": {},
   "source": [
    "## Alpaca"
   ]
  },
  {
   "cell_type": "code",
   "execution_count": null,
   "metadata": {},
   "outputs": [],
   "source": [
    "\"\"\"first run on a terminal on your local machine and keep it running in the background: \n",
    ">>>kubectl port-forward something-gpu-ultra-inf 8000:8000\n",
    "\n",
    "Forwarding from 127.0.0.1:8000 -> 8000\n",
    "Forwarding from [::1]:8000 -> 8000\n",
    "---------------------------------\n",
    "then run the following code:\n",
    "\"\"\"\n",
    "import os\n",
    "from openai import OpenAI\n",
    "\n",
    "# Modify OpenAI's API key and API base to use vLLM's API server.\n",
    "openai_api_key = \"EMPTY\"\n",
    "openai_api_base = \"http://localhost:8000/v1\"\n",
    "\n",
    "client = OpenAI(\n",
    "    api_key=openai_api_key,\n",
    "    base_url=openai_api_base,\n",
    ")\n",
    "for i in range(100):\n",
    "    completion = client.completions.create(model=\"Meta-Llama-3-70B-Instruct\",\n",
    "                                      prompt=\"San Francisco is a\")\n",
    "    print(\"Completion result:\", completion)"
   ]
  },
  {
   "cell_type": "code",
   "execution_count": 3,
   "metadata": {},
   "outputs": [],
   "source": [
    "import datasets\n",
    "\n",
    "eval_set = datasets.load_from_disk(\"<some path>/raw_datasets/alpaca_eval\")"
   ]
  },
  {
   "cell_type": "code",
   "execution_count": 4,
   "metadata": {},
   "outputs": [
    {
     "data": {
      "text/plain": [
       "Dataset({\n",
       "    features: ['instruction', 'output', 'generator', 'dataset'],\n",
       "    num_rows: 805\n",
       "})"
      ]
     },
     "execution_count": 4,
     "metadata": {},
     "output_type": "execute_result"
    }
   ],
   "source": [
    "eval_set"
   ]
  },
  {
   "cell_type": "code",
   "execution_count": null,
   "metadata": {
    "vscode": {
     "languageId": "powershell"
    }
   },
   "outputs": [],
   "source": [
    "CUDA_VISIBLE_DEVICES=0 alpaca_eval generate_from_model --model_configs \"Llama-3-Instruct-8B-RainbowPO\""
   ]
  },
  {
   "cell_type": "code",
   "execution_count": null,
   "metadata": {
    "vscode": {
     "languageId": "powershell"
    }
   },
   "outputs": [],
   "source": [
    "CUDA_VISIBLE_DEVICES=0 alpaca_eval generate_from_model --model_configs \"Llama-3-Instruct-8B-RainbowPO-LoRA\""
   ]
  },
  {
   "cell_type": "code",
   "execution_count": null,
   "metadata": {
    "vscode": {
     "languageId": "powershell"
    }
   },
   "outputs": [],
   "source": [
    "CUDA_VISIBLE_DEVICES=1 alpaca_eval generate_from_model --model_configs \"Llama-3-Instruct-8B-RainbowPO\""
   ]
  },
  {
   "cell_type": "code",
   "execution_count": null,
   "metadata": {
    "vscode": {
     "languageId": "powershell"
    }
   },
   "outputs": [],
   "source": [
    "CUDA_VISIBLE_DEVICES=2 alpaca_eval generate_from_model --model_configs \"Llama-3-Instruct-8B-RainbowPO\""
   ]
  },
  {
   "cell_type": "code",
   "execution_count": null,
   "metadata": {
    "vscode": {
     "languageId": "powershell"
    }
   },
   "outputs": [],
   "source": [
    "CUDA_VISIBLE_DEVICES=3 alpaca_eval generate_from_model --model_configs \"Llama-3-Instruct-8B-RainbowPO\""
   ]
  },
  {
   "cell_type": "code",
   "execution_count": null,
   "metadata": {
    "vscode": {
     "languageId": "powershell"
    }
   },
   "outputs": [],
   "source": [
    "CUDA_VISIBLE_DEVICES=4 alpaca_eval generate_from_model --model_configs \"Llama-3-Instruct-8B-RainbowPO\""
   ]
  },
  {
   "cell_type": "markdown",
   "metadata": {},
   "source": [
    "## Change $\\beta$"
   ]
  },
  {
   "cell_type": "code",
   "execution_count": null,
   "metadata": {
    "vscode": {
     "languageId": "powershell"
    }
   },
   "outputs": [],
   "source": [
    "export OPENAI_API_KEY=\"EMPTY\" # for more complex configs, e.g. using Azure or switching clients see client_configs/README.md \n",
    "alpaca_eval evaluate --model_outputs='<some path>/evaluations/alpaca_eval/results/Llama-3-Instruct-8B-DPO-beta=0.1/model_outputs.json' --reference_outputs='<some path>/evaluations/alpaca_eval/results/gpt-4o-2024-05-13/model_outputs.json' --annotators_config='alpaca_eval_llama3_70b_fn_local'"
   ]
  },
  {
   "cell_type": "code",
   "execution_count": null,
   "metadata": {
    "vscode": {
     "languageId": "powershell"
    }
   },
   "outputs": [],
   "source": [
    "# compared to gpt4\n",
    "alpaca_eval evaluate --model_outputs='<some path>/evaluations/alpaca_eval/results/Llama-3-Instruct-8B-DPO-beta=0.05/model_outputs.json' --reference_outputs='<some path>/evaluations/alpaca_eval/results/gpt4_1106_preview/model_outputs.json' --annotators_config='alpaca_eval_llama3_70b_fn_local'"
   ]
  },
  {
   "cell_type": "code",
   "execution_count": null,
   "metadata": {
    "vscode": {
     "languageId": "powershell"
    }
   },
   "outputs": [],
   "source": [
    "# compare to gpt4o\n",
    "alpaca_eval evaluate --model_outputs '<some path>/evaluations/alpaca_eval/results/Llama-3-Instruct-8B-DPO-beta=0.05-temp=1.0/model_outputs.json' --reference_outputs='<some path>/evaluations/alpaca_eval/results/gpt-4o-2024-05-13/model_outputs.json' --annotators_config 'alpaca_eval_llama3_70b_fn_local'"
   ]
  },
  {
   "cell_type": "code",
   "execution_count": null,
   "metadata": {
    "vscode": {
     "languageId": "powershell"
    }
   },
   "outputs": [],
   "source": [
    "# compare to gpt4o\n",
    "alpaca_eval evaluate --model_outputs '<some path>/evaluations/alpaca_eval/results/Llama-3-Instruct-8B-Mallows-DPO-beta=0.05-temp=1.0/model_outputs.json' --reference_outputs='<some path>/evaluations/alpaca_eval/results/gpt-4o-2024-05-13/model_outputs.json' --annotators_config 'alpaca_eval_llama3_70b_fn_local'"
   ]
  },
  {
   "cell_type": "markdown",
   "metadata": {},
   "source": [
    "## Change LR to 0.5 and 0.3"
   ]
  },
  {
   "cell_type": "code",
   "execution_count": null,
   "metadata": {},
   "outputs": [],
   "source": [
    "!alpaca_eval evaluate --reference_outputs='<some path>/evaluations/alpaca_eval/results/gpt4_1106_preview/model_outputs.json' --model_outputs='<some path>/evaluations/alpaca_eval/results/Llama-3-Instruct-8B-DPO-beta=0.1-lr=0.5/model_outputs.json'  --annotators_config='alpaca_eval_llama3_70b_fn_local'"
   ]
  },
  {
   "cell_type": "code",
   "execution_count": null,
   "metadata": {},
   "outputs": [],
   "source": [
    "!alpaca_eval evaluate --reference_outputs='<some path>/evaluations/alpaca_eval/results/gpt4_1106_preview/model_outputs.json' --model_outputs '<some path>/evaluations/alpaca_eval/results/Llama-3-Instruct-8B-DPO-beta=0.05-lr=0.3/model_outputs.json' --annotators_config 'alpaca_eval_llama3_70b_fn_local'"
   ]
  },
  {
   "cell_type": "code",
   "execution_count": null,
   "metadata": {},
   "outputs": [],
   "source": [
    "!alpaca_eval evaluate --reference_outputs='<some path>/evaluations/alpaca_eval/results/gpt4_1106_preview/model_outputs.json' --model_outputs '<some path>/evaluations/alpaca_eval/results/Llama-3-Instruct-8B-DPO-beta=0.01-lr=0.5/model_outputs.json' --annotators_config 'alpaca_eval_llama3_70b_fn_local'"
   ]
  },
  {
   "cell_type": "code",
   "execution_count": null,
   "metadata": {},
   "outputs": [],
   "source": [
    "## learning rate 0.3\n",
    "!alpaca_eval evaluate --reference_outputs='<some path>/evaluations/alpaca_eval/results/gpt-4o-2024-05-13/model_outputs.json' --model_outputs '<some path>/evaluations/alpaca_eval/results/Llama-3-Instruct-8B-DPO-beta=0.1-lr=0.3/model_outputs.json' --annotators_config 'alpaca_eval_llama3_70b_fn_local'"
   ]
  },
  {
   "cell_type": "markdown",
   "metadata": {},
   "source": [
    "## XPOs"
   ]
  },
  {
   "cell_type": "code",
   "execution_count": null,
   "metadata": {},
   "outputs": [],
   "source": [
    "# IPO\n",
    "alpaca_eval evaluate --reference_outputs='<some path>/evaluations/alpaca_eval/results/gpt4_1106_preview/model_outputs.json' --model_outputs='<some path>/evaluations/alpaca_eval/results/Llama-3-Instruct-8B-IPO-beta=0.001-lr=0.5/model_outputs.json'  --annotators_config='alpaca_eval_llama3_70b_fn_local'"
   ]
  },
  {
   "cell_type": "code",
   "execution_count": null,
   "metadata": {},
   "outputs": [],
   "source": [
    "alpaca_eval evaluate --reference_outputs='<some path>/evaluations/alpaca_eval/results/gpt4_1106_preview/model_outputs.json' --model_outputs='<some path>/evaluations/alpaca_eval/results/Llama-3-Instruct-8B-IPO-beta=10-LN-hadv=0.5-max=2048/model_outputs.json'  --annotators_config='alpaca_eval_llama3_70b_fn_local'"
   ]
  },
  {
   "cell_type": "code",
   "execution_count": null,
   "metadata": {},
   "outputs": [],
   "source": [
    "# ORPO\n",
    "alpaca_eval evaluate --reference_outputs='<some path>/evaluations/alpaca_eval/results/gpt4_1106_preview/model_outputs.json' --model_outputs '<some path>/evaluations/alpaca_eval/results/Llama-3-Instruct-8B-ORPO-beta=0.1/model_outputs.json' --annotators_config 'alpaca_eval_llama3_70b_fn_local'"
   ]
  },
  {
   "cell_type": "code",
   "execution_count": null,
   "metadata": {},
   "outputs": [],
   "source": [
    "# SimPO\n",
    "alpaca_eval evaluate --reference_outputs='<some path>/evaluations/alpaca_eval/results/gpt4_1106_preview/model_outputs.json' --model_outputs '<some path>/evaluations/alpaca_eval/results/Llama-3-Instruct-8B-SimPO-beta=10-max=2048/model_outputs.json' --annotators_config 'alpaca_eval_llama3_70b_fn_local'"
   ]
  },
  {
   "cell_type": "code",
   "execution_count": null,
   "metadata": {},
   "outputs": [],
   "source": []
  },
  {
   "cell_type": "markdown",
   "metadata": {},
   "source": [
    "## Length Normalization"
   ]
  },
  {
   "cell_type": "code",
   "execution_count": null,
   "metadata": {
    "vscode": {
     "languageId": "powershell"
    }
   },
   "outputs": [],
   "source": [
    "alpaca_eval evaluate --model_outputs='<some path>/evaluations/alpaca_eval/results/Llama-3-Instruct-8B-DPO-beta=10-LN-max=2048/model_outputs.json' --reference_outputs='<some path>/evaluations/alpaca_eval/results/gpt4_1106_preview/model_outputs.json' --annotators_config='alpaca_eval_llama3_70b_fn_local'"
   ]
  },
  {
   "cell_type": "markdown",
   "metadata": {},
   "source": [
    "# Home Advantage"
   ]
  },
  {
   "cell_type": "code",
   "execution_count": null,
   "metadata": {
    "vscode": {
     "languageId": "powershell"
    }
   },
   "outputs": [],
   "source": [
    "alpaca_eval evaluate --model_outputs='<some path>/evaluations/alpaca_eval/results/Llama-3-Instruct-8B-DPO-beta=0.05-hadv=-0.001/model_outputs.json' --reference_outputs='<some path>/evaluations/alpaca_eval/results/gpt-4o-2024-05-13/model_outputs.json' --annotators_config='alpaca_eval_llama3_70b_fn_local'"
   ]
  },
  {
   "cell_type": "code",
   "execution_count": null,
   "metadata": {
    "vscode": {
     "languageId": "powershell"
    }
   },
   "outputs": [],
   "source": [
    "alpaca_eval evaluate --model_outputs='<some path>/evaluations/alpaca_eval/results/Llama-3-Instruct-8B-DPO-beta=0.05-hadv=0.01/model_outputs.json' --reference_outputs='<some path>/evaluations/alpaca_eval/results/gpt-4o-2024-05-13/model_outputs.json' --annotators_config='alpaca_eval_llama3_70b_fn_local'"
   ]
  },
  {
   "cell_type": "code",
   "execution_count": null,
   "metadata": {
    "vscode": {
     "languageId": "powershell"
    }
   },
   "outputs": [],
   "source": [
    "alpaca_eval evaluate --model_outputs='<some path>/evaluations/alpaca_eval/results/Llama-3-Instruct-8B-DPO-beta=0.05-hadv=0.01/model_outputs.json' --reference_outputs='<some path>/evaluations/alpaca_eval/results/gpt-4o-2024-05-13/model_outputs.json' --annotators_config='alpaca_eval_llama3_70b_fn_local'"
   ]
  },
  {
   "cell_type": "markdown",
   "metadata": {},
   "source": [
    "# Home advantage + length normalization"
   ]
  },
  {
   "cell_type": "code",
   "execution_count": null,
   "metadata": {
    "vscode": {
     "languageId": "powershell"
    }
   },
   "outputs": [],
   "source": [
    "alpaca_eval evaluate --model_outputs='<some path>/evaluations/alpaca_eval/results/Llama-3-Instruct-8B-DPO-beta=10-LN-hadv=-0.05/model_outputs.json' --reference_outputs='<some path>/evaluations/alpaca_eval/results/gpt-4o-2024-05-13/model_outputs.json' --annotators_config='alpaca_eval_llama3_70b_fn_local'"
   ]
  },
  {
   "cell_type": "markdown",
   "metadata": {},
   "source": [
    "# LORA"
   ]
  },
  {
   "cell_type": "code",
   "execution_count": 3,
   "metadata": {},
   "outputs": [
    {
     "name": "stdout",
     "output_type": "stream",
     "text": [
      "Transforming model mallows_dpo_beta_0.1\n",
      "\n"
     ]
    },
    {
     "data": {
      "application/vnd.jupyter.widget-view+json": {
       "model_id": "9d62f6743f9a423fbc79f284da02a346",
       "version_major": 2,
       "version_minor": 0
      },
      "text/plain": [
       "Loading checkpoint shards:   0%|          | 0/4 [00:00<?, ?it/s]"
      ]
     },
     "metadata": {},
     "output_type": "display_data"
    },
    {
     "name": "stderr",
     "output_type": "stream",
     "text": [
      "Special tokens have been added in the vocabulary, make sure the associated word embeddings are fine-tuned or trained.\n"
     ]
    },
    {
     "name": "stdout",
     "output_type": "stream",
     "text": [
      "[2024-08-08 16:58:55,843] [INFO] [real_accelerator.py:203:get_accelerator] Setting ds_accelerator to cuda (auto detect)\n",
      "\u001b[93m [WARNING] \u001b[0m async_io requires the dev libaio .so object and headers but these were not found.\n",
      "\u001b[93m [WARNING] \u001b[0m async_io: please install the libaio-dev package with apt\n",
      "\u001b[93m [WARNING] \u001b[0m If libaio is already installed (perhaps from source), try setting the CFLAGS and LDFLAGS environment variables to where it can be found.\n",
      "\u001b[93m [WARNING] \u001b[0m Please specify the CUTLASS repo directory as environment variable $CUTLASS_PATH\n"
     ]
    },
    {
     "name": "stderr",
     "output_type": "stream",
     "text": [
      "/opt/conda/compiler_compat/ld: cannot find -laio: No such file or directory\n",
      "collect2: error: ld returned 1 exit status\n"
     ]
    },
    {
     "name": "stdout",
     "output_type": "stream",
     "text": [
      "\u001b[93m [WARNING] \u001b[0m sparse_attn requires a torch version >= 1.5 and < 2.0 but detected 2.1\n",
      "\u001b[93m [WARNING] \u001b[0m using untested triton version (2.1.0), only 1.0.0 is known to be compatible\n"
     ]
    },
    {
     "ename": "",
     "evalue": "",
     "output_type": "error",
     "traceback": [
      "\u001b[1;31mThe Kernel crashed while executing code in the current cell or a previous cell. \n",
      "\u001b[1;31mPlease review the code in the cell(s) to identify a possible cause of the failure. \n",
      "\u001b[1;31mClick <a href='https://aka.ms/vscodeJupyterKernelCrash'>here</a> for more info. \n",
      "\u001b[1;31mView Jupyter <a href='command:jupyter.viewOutput'>log</a> for further details."
     ]
    }
   ],
   "source": [
    "# load LORA model weights and save the whole model\n",
    "import torch\n",
    "from peft import PeftModelForCausalLM\n",
    "from transformers import LlamaForCausalLM,AutoTokenizer\n",
    "base_model_name_or_path=\"<some path>/model_zoo/Meta-Llama-3-8B-Instruct\"\n",
    "\n",
    "lora_model_list = [\"mallows_dpo_beta_0.1\",\n",
    "    ]\n",
    "\n",
    "for lora_model_name in lora_model_list:\n",
    "    print(f\"Transforming model {lora_model_name}\\n\")\n",
    "    lora_model_name = \"Llama3-Instruct_armorm_LoRA_r_32_a_64_\" + lora_model_name\n",
    "\n",
    "    model = LlamaForCausalLM.from_pretrained(base_model_name_or_path, device_map=\"auto\")\n",
    "    tokenizer = AutoTokenizer.from_pretrained(base_model_name_or_path)\n",
    "\n",
    "    peft_config_path = \"<some path>/trl/models_rlhf_lora/\"+lora_model_name\n",
    "    model = PeftModelForCausalLM.from_pretrained(model,peft_config_path)\n",
    "    merged_model = model.merge_and_unload()\n",
    "    merged_model.save_pretrained(save_directory=\"<some path>/trl/models_rlhf/\"+lora_model_name, max_shard_size=\"10GB\")\n",
    "    tokenizer.save_pretrained(save_directory=\"<some path>/trl/models_rlhf/\"+lora_model_name)"
   ]
  },
  {
   "cell_type": "code",
   "execution_count": 1,
   "metadata": {},
   "outputs": [
    {
     "name": "stdout",
     "output_type": "stream",
     "text": [
      "Transforming model rainbowpo_beta_0.01\n",
      "\n"
     ]
    },
    {
     "data": {
      "application/vnd.jupyter.widget-view+json": {
       "model_id": "aee07882201a4f07ac919e66a5eef192",
       "version_major": 2,
       "version_minor": 0
      },
      "text/plain": [
       "Loading checkpoint shards:   0%|          | 0/4 [00:00<?, ?it/s]"
      ]
     },
     "metadata": {},
     "output_type": "display_data"
    },
    {
     "name": "stderr",
     "output_type": "stream",
     "text": [
      "Special tokens have been added in the vocabulary, make sure the associated word embeddings are fine-tuned or trained.\n"
     ]
    },
    {
     "name": "stdout",
     "output_type": "stream",
     "text": [
      "[2024-08-11 03:05:28,438] [INFO] [real_accelerator.py:203:get_accelerator] Setting ds_accelerator to cuda (auto detect)\n",
      "\u001b[93m [WARNING] \u001b[0m async_io requires the dev libaio .so object and headers but these were not found.\n",
      "\u001b[93m [WARNING] \u001b[0m async_io: please install the libaio-dev package with apt\n",
      "\u001b[93m [WARNING] \u001b[0m If libaio is already installed (perhaps from source), try setting the CFLAGS and LDFLAGS environment variables to where it can be found.\n",
      "\u001b[93m [WARNING] \u001b[0m Please specify the CUTLASS repo directory as environment variable $CUTLASS_PATH\n"
     ]
    },
    {
     "name": "stderr",
     "output_type": "stream",
     "text": [
      "/opt/conda/compiler_compat/ld: cannot find -laio: No such file or directory\n",
      "collect2: error: ld returned 1 exit status\n"
     ]
    },
    {
     "name": "stdout",
     "output_type": "stream",
     "text": [
      "\u001b[93m [WARNING] \u001b[0m sparse_attn requires a torch version >= 1.5 and < 2.0 but detected 2.1\n",
      "\u001b[93m [WARNING] \u001b[0m using untested triton version (2.1.0), only 1.0.0 is known to be compatible\n"
     ]
    }
   ],
   "source": [
    "import torch\n",
    "from peft import PeftModelForCausalLM\n",
    "from transformers import LlamaForCausalLM,AutoTokenizer\n",
    "base_model_name_or_path=\"<some path>/model_zoo/Meta-Llama-3-8B-Instruct\"\n",
    "\n",
    "lora_model_list = [\"rainbowpo_beta_0.01\",\n",
    "    ]\n",
    "\n",
    "for lora_model_name in lora_model_list:\n",
    "    print(f\"Transforming model {lora_model_name}\\n\")\n",
    "    lora_model_name = \"Llama3-Instruct_armorm_LoRA_r_128_a_256_\" + lora_model_name\n",
    "\n",
    "    model = LlamaForCausalLM.from_pretrained(base_model_name_or_path, device_map=\"auto\")\n",
    "    tokenizer = AutoTokenizer.from_pretrained(base_model_name_or_path)\n",
    "\n",
    "    peft_config_path = \"<some path>/trl/models_rlhf_lora/\"+lora_model_name\n",
    "    model = PeftModelForCausalLM.from_pretrained(model,peft_config_path)\n",
    "    merged_model = model.merge_and_unload()\n",
    "    merged_model.save_pretrained(save_directory=\"<some path>/trl/models_rlhf/\"+lora_model_name, max_shard_size=\"10GB\")\n",
    "    tokenizer.save_pretrained(save_directory=\"<some path>/trl/models_rlhf/\"+lora_model_name)"
   ]
  },
  {
   "cell_type": "code",
   "execution_count": null,
   "metadata": {
    "vscode": {
     "languageId": "powershell"
    }
   },
   "outputs": [],
   "source": [
    "CUDA_VISIBLE_DEVICES=0 alpaca_eval generate_from_model --model_configs \"Llama-3-Instruct-8B-RainbowPO\""
   ]
  },
  {
   "cell_type": "code",
   "execution_count": null,
   "metadata": {
    "vscode": {
     "languageId": "powershell"
    }
   },
   "outputs": [],
   "source": [
    "# compared to gpt4\n",
    "alpaca_eval evaluate --model_outputs='<some path>/evaluations/alpaca_eval/results/Llama-3-Instruct-8B-LORA-r32-DPO-beta=10-LN-hadv=-0.05/model_outputs.json' --reference_outputs='<some path>/evaluations/alpaca_eval/results/gpt4_1106_preview/model_outputs.json' --annotators_config='alpaca_eval_llama3_70b_fn_local'"
   ]
  },
  {
   "cell_type": "code",
   "execution_count": null,
   "metadata": {
    "vscode": {
     "languageId": "powershell"
    }
   },
   "outputs": [],
   "source": [
    "# compared to gpt4 (temp 0.7)\n",
    "alpaca_eval evaluate --model_outputs='<some path>/evaluations/alpaca_eval/results/Llama-3-Instruct-8B-LORA-r128-DPO-beta=0.05-lr=0.3-temp=0.7/model_outputs.json' --reference_outputs='<some path>/evaluations/alpaca_eval/results/gpt4_1106_preview/model_outputs.json' --annotators_config='alpaca_eval_llama3_70b_fn_local'"
   ]
  },
  {
   "cell_type": "code",
   "execution_count": null,
   "metadata": {
    "vscode": {
     "languageId": "powershell"
    }
   },
   "outputs": [],
   "source": [
    "# compared to gpt4\n",
    "alpaca_eval evaluate --model_outputs='<some path>/evaluations/alpaca_eval/results/Llama-3-Instruct-8B-LORA-r128-DPO-beta=0.05/model_outputs.json' --reference_outputs='<some path>/evaluations/alpaca_eval/results/gpt4_1106_preview/model_outputs.json' --annotators_config='alpaca_eval_llama3_70b_fn_local'"
   ]
  },
  {
   "cell_type": "code",
   "execution_count": null,
   "metadata": {
    "vscode": {
     "languageId": "powershell"
    }
   },
   "outputs": [],
   "source": [
    "# compared to gpt4\n",
    "alpaca_eval evaluate --model_outputs='<some path>/evaluations/alpaca_eval/results/Llama-3-Instruct-8B-LORA-r128-DPO-beta=0.01-lr=0.5-temp=0.7/model_outputs.json' --reference_outputs='<some path>/evaluations/alpaca_eval/results/gpt4_1106_preview/model_outputs.json' --annotators_config='alpaca_eval_llama3_70b_fn_local'"
   ]
  },
  {
   "cell_type": "markdown",
   "metadata": {},
   "source": [
    "## Mallows"
   ]
  },
  {
   "cell_type": "code",
   "execution_count": null,
   "metadata": {
    "vscode": {
     "languageId": "powershell"
    }
   },
   "outputs": [],
   "source": [
    "# compared to gpt4o\n",
    "alpaca_eval evaluate --model_outputs='<some path>/evaluations/alpaca_eval/results/Llama-3-Instruct-8B-Mallows-DPO-beta=0.1-/model_outputs.json' --reference_outputs='<some path>/evaluations/alpaca_eval/results/gpt-4o-2024-05-13/model_outputs.json' --annotators_config='alpaca_eval_llama3_70b_fn_local'"
   ]
  },
  {
   "cell_type": "code",
   "execution_count": null,
   "metadata": {
    "vscode": {
     "languageId": "powershell"
    }
   },
   "outputs": [],
   "source": [
    "# compared to gpt4\n",
    "alpaca_eval evaluate --model_outputs='<some path>/evaluations/alpaca_eval/results/Llama-3-Instruct-8B-Mallows-DPO-beta=0.05-temp=0.7/model_outputs.json' --reference_outputs='<some path>/evaluations/alpaca_eval/results/gpt4_1106_preview/model_outputs.json' --annotators_config='alpaca_eval_llama3_70b_fn_local'"
   ]
  },
  {
   "cell_type": "code",
   "execution_count": null,
   "metadata": {
    "vscode": {
     "languageId": "powershell"
    }
   },
   "outputs": [],
   "source": [
    "alpaca_eval evaluate --model_outputs='<some path>/evaluations/alpaca_eval/results/Llama-3-Instruct-8B-Mallows-IPO-beta=0.1/model_outputs.json' --reference_outputs='<some path>/evaluations/alpaca_eval/results/gpt-4o-2024-05-13/model_outputs.json' --annotators_config='alpaca_eval_llama3_70b_fn_local'"
   ]
  },
  {
   "cell_type": "code",
   "execution_count": null,
   "metadata": {
    "vscode": {
     "languageId": "powershell"
    }
   },
   "outputs": [],
   "source": [
    "# compared to gpt4\n",
    "alpaca_eval evaluate --model_outputs='<some path>/evaluations/alpaca_eval/results/Llama-3-Instruct-8B-LORA-r32-Mallows-DPO-beta=0.1-temp=0.7/model_outputs.json' --reference_outputs='<some path>/evaluations/alpaca_eval/results/gpt4_1106_preview/model_outputs.json' --annotators_config='alpaca_eval_llama3_70b_fn_local'"
   ]
  },
  {
   "cell_type": "code",
   "execution_count": null,
   "metadata": {
    "vscode": {
     "languageId": "powershell"
    }
   },
   "outputs": [],
   "source": [
    "alpaca_eval evaluate --model_outputs='<some path>/evaluations/alpaca_eval/results/Llama-3-Instruct-8B-LoRA-RainbowPO-beta=0.01/model_outputs.json' --reference_outputs='<some path>/evaluations/alpaca_eval/results/gpt4_1106_preview/model_outputs.json' --annotators_config='alpaca_eval_llama3_70b_fn_local'"
   ]
  },
  {
   "cell_type": "markdown",
   "metadata": {},
   "source": [
    "### Direct comparison"
   ]
  },
  {
   "cell_type": "markdown",
   "metadata": {},
   "source": [
    "alpaca_eval evaluate --model_outputs='<some path>/evaluations/alpaca_eval/results/Llama-3-Instruct-8B-Mallows-DPO-beta=0.05/model_outputs.json' --reference_outputs='<some path>/evaluations/alpaca_eval/results/Llama-3-Instruct-8B-DPO-beta=0.05/model_outputs.json' --annotators_config='alpaca_eval_llama3_70b_fn_local'"
   ]
  },
  {
   "cell_type": "code",
   "execution_count": null,
   "metadata": {
    "vscode": {
     "languageId": "powershell"
    }
   },
   "outputs": [],
   "source": [
    "alpaca_eval evaluate --model_outputs='<some path>/evaluations/alpaca_eval/results/Llama-3-Instruct-8B-Mallows-SimPO-beta=10/model_outputs.json' --reference_outputs='<some path>/evaluations/alpaca_eval/results/Llama-3-Instruct-8B-SimPO-beta=10-hadv=0.3/model_outputs.json' --annotators_config='alpaca_eval_llama3_70b_fn_local'"
   ]
  },
  {
   "cell_type": "code",
   "execution_count": 2,
   "metadata": {
    "vscode": {
     "languageId": "powershell"
    }
   },
   "outputs": [
    {
     "data": {
      "text/plain": [
       "True"
      ]
     },
     "execution_count": 2,
     "metadata": {},
     "output_type": "execute_result"
    }
   ],
   "source": [
    "\"lora\" in \"LORA_model\".lower()"
   ]
  },
  {
   "cell_type": "code",
   "execution_count": 6,
   "metadata": {
    "vscode": {
     "languageId": "powershell"
    }
   },
   "outputs": [
    {
     "data": {
      "text/plain": [
       "tensor([1.])"
      ]
     },
     "execution_count": 6,
     "metadata": {},
     "output_type": "execute_result"
    }
   ],
   "source": [
    "import torch\n",
    "import math\n",
    "torch.atan(torch.tensor(1.0)) * 2 * 2 /torch.tensor([math.pi])"
   ]
  },
  {
   "cell_type": "code",
   "execution_count": 10,
   "metadata": {
    "vscode": {
     "languageId": "powershell"
    }
   },
   "outputs": [
    {
     "data": {
      "text/plain": [
       "tensor(-inf)"
      ]
     },
     "execution_count": 10,
     "metadata": {},
     "output_type": "execute_result"
    }
   ],
   "source": [
    "a =torch.tensor(0.0)\n",
    "a.atan().log()"
   ]
  },
  {
   "cell_type": "code",
   "execution_count": 11,
   "metadata": {
    "vscode": {
     "languageId": "powershell"
    }
   },
   "outputs": [
    {
     "data": {
      "text/plain": [
       "tensor(-0.6931)"
      ]
     },
     "execution_count": 11,
     "metadata": {},
     "output_type": "execute_result"
    }
   ],
   "source": [
    "((x).atan()/math.pi + 0.5).log()"
   ]
  },
  {
   "cell_type": "code",
   "execution_count": 12,
   "metadata": {
    "vscode": {
     "languageId": "powershell"
    }
   },
   "outputs": [],
   "source": [
    "import matplotlib.pyplot as plt"
   ]
  },
  {
   "cell_type": "code",
   "execution_count": 18,
   "metadata": {
    "vscode": {
     "languageId": "powershell"
    }
   },
   "outputs": [
    {
     "data": {
      "text/plain": [
       "tensor([-3.4506, -3.3460, -3.2293, -3.0974, -2.9456, -2.7673, -2.5513, -2.2787,\n",
       "        -1.9134, -1.3863, -0.6931, -0.2877, -0.1597, -0.1080, -0.0812, -0.0649,\n",
       "        -0.0540, -0.0462, -0.0404, -0.0359])"
      ]
     },
     "execution_count": 18,
     "metadata": {},
     "output_type": "execute_result"
    }
   ],
   "source": [
    "def f(x):\n",
    "    return ((x).atan()/math.pi + 0.5).log()\n",
    "\n",
    "a = torch.tensor(range(-10,10,1))\n",
    "f(a)"
   ]
  },
  {
   "cell_type": "code",
   "execution_count": 32,
   "metadata": {
    "vscode": {
     "languageId": "powershell"
    }
   },
   "outputs": [
    {
     "data": {
      "text/plain": [
       "tensor([-4.8338, -4.8085, -4.7825, -4.7559, -4.7285, -4.7003, -4.6714, -4.6415,\n",
       "        -4.6108, -4.5791, -4.5463, -4.5124, -4.4774, -4.4410, -4.4033, -4.3641,\n",
       "        -4.3234, -4.2809, -4.2365, -4.1900, -4.1413, -4.0901, -4.0361, -3.9791,\n",
       "        -3.9186, -3.8543, -3.7855, -3.7116, -3.6319, -3.5454, -3.4506, -3.3460,\n",
       "        -3.2293, -3.0974, -2.9456, -2.7673, -2.5513, -2.2787, -1.9134, -1.3863,\n",
       "        -0.6931, -0.2877, -0.1597, -0.1080, -0.0812, -0.0649, -0.0540, -0.0462,\n",
       "        -0.0404, -0.0359, -0.0322, -0.0293, -0.0268, -0.0247, -0.0230, -0.0214,\n",
       "        -0.0201, -0.0189, -0.0178, -0.0169, -0.0160, -0.0153, -0.0146, -0.0139,\n",
       "        -0.0133, -0.0128, -0.0123, -0.0119, -0.0114, -0.0110, -0.0107, -0.0103,\n",
       "        -0.0100, -0.0097, -0.0094, -0.0091, -0.0089, -0.0086, -0.0084, -0.0082])"
      ]
     },
     "execution_count": 32,
     "metadata": {},
     "output_type": "execute_result"
    }
   ],
   "source": [
    "\n",
    "\n",
    "a = torch.tensor(range(-40,40,1))\n",
    "f(a)"
   ]
  },
  {
   "cell_type": "code",
   "execution_count": 33,
   "metadata": {
    "vscode": {
     "languageId": "powershell"
    }
   },
   "outputs": [
    {
     "data": {
      "text/plain": [
       "(0.0, 6.0)"
      ]
     },
     "execution_count": 33,
     "metadata": {},
     "output_type": "execute_result"
    },
    {
     "data": {
      "image/png": "[encoded data removed]",
      "text/plain": [
       "<Figure size 640x480 with 1 Axes>"
      ]
     },
     "metadata": {},
     "output_type": "display_data"
    }
   ],
   "source": [
    "plt.plot(a, -f(a))\n",
    "plt.plot(a, -(0.1*a).sigmoid().log())\n",
    "plt.ylim(0,6)"
   ]
  },
  {
   "cell_type": "code",
   "execution_count": null,
   "metadata": {
    "vscode": {
     "languageId": "powershell"
    }
   },
   "outputs": [],
   "source": [
    "python RM_evaluate.py --model_outputs='<some path>/evaluations/alpaca_eval/results/Llama-3-Instruct-8B-DPO-beta=0.1/model_outputs.json' --reference_outputs='<some path>/evaluations/alpaca_eval/results/gpt4_1106_preview/model_outputs.json'"
   ]
  },
  {
   "cell_type": "code",
   "execution_count": null,
   "metadata": {
    "vscode": {
     "languageId": "powershell"
    }
   },
   "outputs": [],
   "source": [
    "alpaca_eval evaluate --model_outputs='<some path>/evaluations/alpaca_eval/results/Llama-3-Instruct-8B-SimPO-beta=10-LN-hadv=0.3-max=2048-wr=0.1/model_outputs.json' --reference_outputs='<some path>/evaluations/alpaca_eval/results/gpt4_1106_preview/model_outputs.json' --annotators_config='alpaca_eval_llama3_70b_fn_local'"
   ]
  }
 ],
 "metadata": {
  "kernelspec": {
   "display_name": "fastchat",
   "language": "python",
   "name": "python3"
  },
  "language_info": {
   "codemirror_mode": {
    "name": "ipython",
    "version": 3
   },
   "file_extension": ".py",
   "mimetype": "text/x-python",
   "name": "python",
   "nbconvert_exporter": "python",
   "pygments_lexer": "ipython3",
   "version": "3.10.14"
  }
 },
 "nbformat": 4,
 "nbformat_minor": 2
}
